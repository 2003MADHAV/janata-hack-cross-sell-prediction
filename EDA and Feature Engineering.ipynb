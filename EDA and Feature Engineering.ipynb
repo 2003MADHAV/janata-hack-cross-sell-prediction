{
 "cells": [
  {
   "cell_type": "markdown",
   "metadata": {},
   "source": [
    "> SVM Trial one: 0.7719682328792247 (Saturday 12th Sept, 2020 08:00 PM)\n",
    "<br/>\n",
    "> XGBoost Trial one: 0.7808600059 (Saturday 12th Sept, 2020 08:04 PM)\n",
    "<br/>\n",
    "> Max Voting Trial one: 0.7804182179576894 (Saturday 12th Sept, 2020 08:04 PM)"
   ]
  },
  {
   "cell_type": "code",
   "execution_count": 300,
   "metadata": {},
   "outputs": [],
   "source": [
    "import pandas as pd  \n",
    "import numpy as np\n",
    "import matplotlib.pyplot as plt  \n",
    "import seaborn as seabornInstance \n",
    "from sklearn.model_selection import train_test_split \n",
    "from sklearn.linear_model import LinearRegression\n",
    "from sklearn.metrics import mean_squared_error\n",
    "from sklearn.preprocessing import LabelEncoder\n",
    "from sklearn.pipeline import Pipeline\n",
    "\n",
    "from sklearn.svm import SVR\n",
    "from xgboost import XGBClassifier\n",
    "from sklearn.ensemble import GradientBoostingClassifier\n",
    "from sklearn.ensemble import RandomForestClassifier, VotingClassifier\n",
    "\n",
    "from sklearn.pipeline import make_pipeline\n",
    "from sklearn.preprocessing import StandardScaler\n",
    "\n",
    "# Declaration\n",
    "import warnings\n",
    "warnings.filterwarnings('ignore')\n",
    "%precision 2\n",
    "%matplotlib inline\n",
    "seabornInstance.set(font_scale=1)"
   ]
  },
  {
   "cell_type": "code",
   "execution_count": 337,
   "metadata": {},
   "outputs": [],
   "source": [
    "# to see all the comands result in a single kernal \n",
    "%load_ext autoreload\n",
    "%autoreload 2\n",
    "from IPython.core.interactiveshell import InteractiveShell\n",
    "InteractiveShell.ast_node_interactivity = \"all\""
   ]
  },
  {
   "cell_type": "code",
   "execution_count": 301,
   "metadata": {},
   "outputs": [],
   "source": [
    "ldf_training_dataset = pd.read_csv(\"data/train.csv\")"
   ]
  },
  {
   "cell_type": "code",
   "execution_count": 302,
   "metadata": {},
   "outputs": [
    {
     "name": "stdout",
     "output_type": "stream",
     "text": [
      "Total data points: 381109\n"
     ]
    }
   ],
   "source": [
    "print(\"Total data points: \"+str(len(ldf_training_dataset.Response)))"
   ]
  },
  {
   "cell_type": "code",
   "execution_count": 303,
   "metadata": {},
   "outputs": [
    {
     "data": {
      "text/html": [
       "<div>\n",
       "<style scoped>\n",
       "    .dataframe tbody tr th:only-of-type {\n",
       "        vertical-align: middle;\n",
       "    }\n",
       "\n",
       "    .dataframe tbody tr th {\n",
       "        vertical-align: top;\n",
       "    }\n",
       "\n",
       "    .dataframe thead th {\n",
       "        text-align: right;\n",
       "    }\n",
       "</style>\n",
       "<table border=\"1\" class=\"dataframe\">\n",
       "  <thead>\n",
       "    <tr style=\"text-align: right;\">\n",
       "      <th></th>\n",
       "      <th>id</th>\n",
       "      <th>Gender</th>\n",
       "      <th>Age</th>\n",
       "      <th>Driving_License</th>\n",
       "      <th>Region_Code</th>\n",
       "      <th>Previously_Insured</th>\n",
       "      <th>Vehicle_Age</th>\n",
       "      <th>Vehicle_Damage</th>\n",
       "      <th>Annual_Premium</th>\n",
       "      <th>Policy_Sales_Channel</th>\n",
       "      <th>Vintage</th>\n",
       "      <th>Response</th>\n",
       "    </tr>\n",
       "  </thead>\n",
       "  <tbody>\n",
       "    <tr>\n",
       "      <th>0</th>\n",
       "      <td>1</td>\n",
       "      <td>Male</td>\n",
       "      <td>44</td>\n",
       "      <td>1</td>\n",
       "      <td>28.0</td>\n",
       "      <td>0</td>\n",
       "      <td>&gt; 2 Years</td>\n",
       "      <td>Yes</td>\n",
       "      <td>40454.0</td>\n",
       "      <td>26.0</td>\n",
       "      <td>217</td>\n",
       "      <td>1</td>\n",
       "    </tr>\n",
       "    <tr>\n",
       "      <th>1</th>\n",
       "      <td>2</td>\n",
       "      <td>Male</td>\n",
       "      <td>76</td>\n",
       "      <td>1</td>\n",
       "      <td>3.0</td>\n",
       "      <td>0</td>\n",
       "      <td>1-2 Year</td>\n",
       "      <td>No</td>\n",
       "      <td>33536.0</td>\n",
       "      <td>26.0</td>\n",
       "      <td>183</td>\n",
       "      <td>0</td>\n",
       "    </tr>\n",
       "    <tr>\n",
       "      <th>2</th>\n",
       "      <td>3</td>\n",
       "      <td>Male</td>\n",
       "      <td>47</td>\n",
       "      <td>1</td>\n",
       "      <td>28.0</td>\n",
       "      <td>0</td>\n",
       "      <td>&gt; 2 Years</td>\n",
       "      <td>Yes</td>\n",
       "      <td>38294.0</td>\n",
       "      <td>26.0</td>\n",
       "      <td>27</td>\n",
       "      <td>1</td>\n",
       "    </tr>\n",
       "    <tr>\n",
       "      <th>3</th>\n",
       "      <td>4</td>\n",
       "      <td>Male</td>\n",
       "      <td>21</td>\n",
       "      <td>1</td>\n",
       "      <td>11.0</td>\n",
       "      <td>1</td>\n",
       "      <td>&lt; 1 Year</td>\n",
       "      <td>No</td>\n",
       "      <td>28619.0</td>\n",
       "      <td>152.0</td>\n",
       "      <td>203</td>\n",
       "      <td>0</td>\n",
       "    </tr>\n",
       "    <tr>\n",
       "      <th>4</th>\n",
       "      <td>5</td>\n",
       "      <td>Female</td>\n",
       "      <td>29</td>\n",
       "      <td>1</td>\n",
       "      <td>41.0</td>\n",
       "      <td>1</td>\n",
       "      <td>&lt; 1 Year</td>\n",
       "      <td>No</td>\n",
       "      <td>27496.0</td>\n",
       "      <td>152.0</td>\n",
       "      <td>39</td>\n",
       "      <td>0</td>\n",
       "    </tr>\n",
       "  </tbody>\n",
       "</table>\n",
       "</div>"
      ],
      "text/plain": [
       "   id  Gender  Age  Driving_License  Region_Code  Previously_Insured  \\\n",
       "0   1    Male   44                1         28.0                   0   \n",
       "1   2    Male   76                1          3.0                   0   \n",
       "2   3    Male   47                1         28.0                   0   \n",
       "3   4    Male   21                1         11.0                   1   \n",
       "4   5  Female   29                1         41.0                   1   \n",
       "\n",
       "  Vehicle_Age Vehicle_Damage  Annual_Premium  Policy_Sales_Channel  Vintage  \\\n",
       "0   > 2 Years            Yes         40454.0                  26.0      217   \n",
       "1    1-2 Year             No         33536.0                  26.0      183   \n",
       "2   > 2 Years            Yes         38294.0                  26.0       27   \n",
       "3    < 1 Year             No         28619.0                 152.0      203   \n",
       "4    < 1 Year             No         27496.0                 152.0       39   \n",
       "\n",
       "   Response  \n",
       "0         1  \n",
       "1         0  \n",
       "2         1  \n",
       "3         0  \n",
       "4         0  "
      ]
     },
     "execution_count": 303,
     "metadata": {},
     "output_type": "execute_result"
    }
   ],
   "source": [
    "ldf_training_dataset.head()"
   ]
  },
  {
   "cell_type": "code",
   "execution_count": 304,
   "metadata": {},
   "outputs": [
    {
     "name": "stdout",
     "output_type": "stream",
     "text": [
      "<class 'pandas.core.frame.DataFrame'>\n",
      "RangeIndex: 381109 entries, 0 to 381108\n",
      "Data columns (total 12 columns):\n",
      "id                      381109 non-null int64\n",
      "Gender                  381109 non-null object\n",
      "Age                     381109 non-null int64\n",
      "Driving_License         381109 non-null int64\n",
      "Region_Code             381109 non-null float64\n",
      "Previously_Insured      381109 non-null int64\n",
      "Vehicle_Age             381109 non-null object\n",
      "Vehicle_Damage          381109 non-null object\n",
      "Annual_Premium          381109 non-null float64\n",
      "Policy_Sales_Channel    381109 non-null float64\n",
      "Vintage                 381109 non-null int64\n",
      "Response                381109 non-null int64\n",
      "dtypes: float64(3), int64(6), object(3)\n",
      "memory usage: 34.9+ MB\n"
     ]
    }
   ],
   "source": [
    "ldf_training_dataset.info()"
   ]
  },
  {
   "cell_type": "code",
   "execution_count": 305,
   "metadata": {},
   "outputs": [
    {
     "data": {
      "text/html": [
       "<div>\n",
       "<style scoped>\n",
       "    .dataframe tbody tr th:only-of-type {\n",
       "        vertical-align: middle;\n",
       "    }\n",
       "\n",
       "    .dataframe tbody tr th {\n",
       "        vertical-align: top;\n",
       "    }\n",
       "\n",
       "    .dataframe thead th {\n",
       "        text-align: right;\n",
       "    }\n",
       "</style>\n",
       "<table border=\"1\" class=\"dataframe\">\n",
       "  <thead>\n",
       "    <tr style=\"text-align: right;\">\n",
       "      <th></th>\n",
       "      <th>_count</th>\n",
       "    </tr>\n",
       "  </thead>\n",
       "  <tbody>\n",
       "    <tr>\n",
       "      <th>0</th>\n",
       "      <td>334399</td>\n",
       "    </tr>\n",
       "    <tr>\n",
       "      <th>1</th>\n",
       "      <td>46710</td>\n",
       "    </tr>\n",
       "  </tbody>\n",
       "</table>\n",
       "</div>"
      ],
      "text/plain": [
       "   _count\n",
       "0  334399\n",
       "1   46710"
      ]
     },
     "execution_count": 305,
     "metadata": {},
     "output_type": "execute_result"
    }
   ],
   "source": [
    "ldf_training_dataset.Response.value_counts().to_frame(\"_count\")"
   ]
  },
  {
   "cell_type": "code",
   "execution_count": 306,
   "metadata": {},
   "outputs": [
    {
     "data": {
      "text/plain": [
       "<matplotlib.axes._subplots.AxesSubplot at 0x212b9a00278>"
      ]
     },
     "execution_count": 306,
     "metadata": {},
     "output_type": "execute_result"
    },
    {
     "data": {
      "image/png": "[encoded data removed]",
      "text/plain": [
       "<Figure size 432x288 with 1 Axes>"
      ]
     },
     "metadata": {},
     "output_type": "display_data"
    }
   ],
   "source": [
    "ldf_training_dataset.Response.value_counts().plot(kind=\"barh\")"
   ]
  },
  {
   "cell_type": "code",
   "execution_count": 307,
   "metadata": {},
   "outputs": [],
   "source": [
    "le = LabelEncoder()\n",
    "ldf_training_dataset['Gender'] = le.fit_transform(ldf_training_dataset['Gender'])\n",
    "ldf_training_dataset['Vehicle_Age'] = le.fit_transform(ldf_training_dataset['Vehicle_Age'])\n",
    "ldf_training_dataset['Vehicle_Damage'] = le.fit_transform(ldf_training_dataset['Vehicle_Damage'])"
   ]
  },
  {
   "cell_type": "code",
   "execution_count": 308,
   "metadata": {},
   "outputs": [
    {
     "data": {
      "text/html": [
       "<div>\n",
       "<style scoped>\n",
       "    .dataframe tbody tr th:only-of-type {\n",
       "        vertical-align: middle;\n",
       "    }\n",
       "\n",
       "    .dataframe tbody tr th {\n",
       "        vertical-align: top;\n",
       "    }\n",
       "\n",
       "    .dataframe thead th {\n",
       "        text-align: right;\n",
       "    }\n",
       "</style>\n",
       "<table border=\"1\" class=\"dataframe\">\n",
       "  <thead>\n",
       "    <tr style=\"text-align: right;\">\n",
       "      <th></th>\n",
       "      <th>id</th>\n",
       "      <th>Gender</th>\n",
       "      <th>Age</th>\n",
       "      <th>Driving_License</th>\n",
       "      <th>Region_Code</th>\n",
       "      <th>Previously_Insured</th>\n",
       "      <th>Vehicle_Age</th>\n",
       "      <th>Vehicle_Damage</th>\n",
       "      <th>Annual_Premium</th>\n",
       "      <th>Policy_Sales_Channel</th>\n",
       "      <th>Vintage</th>\n",
       "      <th>Response</th>\n",
       "    </tr>\n",
       "  </thead>\n",
       "  <tbody>\n",
       "    <tr>\n",
       "      <th>0</th>\n",
       "      <td>1</td>\n",
       "      <td>1</td>\n",
       "      <td>44</td>\n",
       "      <td>1</td>\n",
       "      <td>28.0</td>\n",
       "      <td>0</td>\n",
       "      <td>2</td>\n",
       "      <td>1</td>\n",
       "      <td>40454.0</td>\n",
       "      <td>26.0</td>\n",
       "      <td>217</td>\n",
       "      <td>1</td>\n",
       "    </tr>\n",
       "    <tr>\n",
       "      <th>1</th>\n",
       "      <td>2</td>\n",
       "      <td>1</td>\n",
       "      <td>76</td>\n",
       "      <td>1</td>\n",
       "      <td>3.0</td>\n",
       "      <td>0</td>\n",
       "      <td>0</td>\n",
       "      <td>0</td>\n",
       "      <td>33536.0</td>\n",
       "      <td>26.0</td>\n",
       "      <td>183</td>\n",
       "      <td>0</td>\n",
       "    </tr>\n",
       "    <tr>\n",
       "      <th>2</th>\n",
       "      <td>3</td>\n",
       "      <td>1</td>\n",
       "      <td>47</td>\n",
       "      <td>1</td>\n",
       "      <td>28.0</td>\n",
       "      <td>0</td>\n",
       "      <td>2</td>\n",
       "      <td>1</td>\n",
       "      <td>38294.0</td>\n",
       "      <td>26.0</td>\n",
       "      <td>27</td>\n",
       "      <td>1</td>\n",
       "    </tr>\n",
       "    <tr>\n",
       "      <th>3</th>\n",
       "      <td>4</td>\n",
       "      <td>1</td>\n",
       "      <td>21</td>\n",
       "      <td>1</td>\n",
       "      <td>11.0</td>\n",
       "      <td>1</td>\n",
       "      <td>1</td>\n",
       "      <td>0</td>\n",
       "      <td>28619.0</td>\n",
       "      <td>152.0</td>\n",
       "      <td>203</td>\n",
       "      <td>0</td>\n",
       "    </tr>\n",
       "    <tr>\n",
       "      <th>4</th>\n",
       "      <td>5</td>\n",
       "      <td>0</td>\n",
       "      <td>29</td>\n",
       "      <td>1</td>\n",
       "      <td>41.0</td>\n",
       "      <td>1</td>\n",
       "      <td>1</td>\n",
       "      <td>0</td>\n",
       "      <td>27496.0</td>\n",
       "      <td>152.0</td>\n",
       "      <td>39</td>\n",
       "      <td>0</td>\n",
       "    </tr>\n",
       "  </tbody>\n",
       "</table>\n",
       "</div>"
      ],
      "text/plain": [
       "   id  Gender  Age  Driving_License  Region_Code  Previously_Insured  \\\n",
       "0   1       1   44                1         28.0                   0   \n",
       "1   2       1   76                1          3.0                   0   \n",
       "2   3       1   47                1         28.0                   0   \n",
       "3   4       1   21                1         11.0                   1   \n",
       "4   5       0   29                1         41.0                   1   \n",
       "\n",
       "   Vehicle_Age  Vehicle_Damage  Annual_Premium  Policy_Sales_Channel  Vintage  \\\n",
       "0            2               1         40454.0                  26.0      217   \n",
       "1            0               0         33536.0                  26.0      183   \n",
       "2            2               1         38294.0                  26.0       27   \n",
       "3            1               0         28619.0                 152.0      203   \n",
       "4            1               0         27496.0                 152.0       39   \n",
       "\n",
       "   Response  \n",
       "0         1  \n",
       "1         0  \n",
       "2         1  \n",
       "3         0  \n",
       "4         0  "
      ]
     },
     "execution_count": 308,
     "metadata": {},
     "output_type": "execute_result"
    }
   ],
   "source": [
    "ldf_training_dataset.head()"
   ]
  },
  {
   "cell_type": "code",
   "execution_count": 309,
   "metadata": {},
   "outputs": [],
   "source": [
    "ldf_training_dataset[\"Previously_Insured\"] = ldf_training_dataset[\"Previously_Insured\"].apply(lambda x: 1 if x==0 else 0)"
   ]
  },
  {
   "cell_type": "code",
   "execution_count": 310,
   "metadata": {},
   "outputs": [
    {
     "data": {
      "text/html": [
       "<div>\n",
       "<style scoped>\n",
       "    .dataframe tbody tr th:only-of-type {\n",
       "        vertical-align: middle;\n",
       "    }\n",
       "\n",
       "    .dataframe tbody tr th {\n",
       "        vertical-align: top;\n",
       "    }\n",
       "\n",
       "    .dataframe thead th {\n",
       "        text-align: right;\n",
       "    }\n",
       "</style>\n",
       "<table border=\"1\" class=\"dataframe\">\n",
       "  <thead>\n",
       "    <tr style=\"text-align: right;\">\n",
       "      <th></th>\n",
       "      <th>id</th>\n",
       "      <th>Gender</th>\n",
       "      <th>Age</th>\n",
       "      <th>Driving_License</th>\n",
       "      <th>Region_Code</th>\n",
       "      <th>Previously_Insured</th>\n",
       "      <th>Vehicle_Age</th>\n",
       "      <th>Vehicle_Damage</th>\n",
       "      <th>Annual_Premium</th>\n",
       "      <th>Policy_Sales_Channel</th>\n",
       "      <th>Vintage</th>\n",
       "      <th>Response</th>\n",
       "    </tr>\n",
       "  </thead>\n",
       "  <tbody>\n",
       "    <tr>\n",
       "      <th>0</th>\n",
       "      <td>1</td>\n",
       "      <td>1</td>\n",
       "      <td>44</td>\n",
       "      <td>1</td>\n",
       "      <td>28.0</td>\n",
       "      <td>1</td>\n",
       "      <td>2</td>\n",
       "      <td>1</td>\n",
       "      <td>40454.0</td>\n",
       "      <td>26.0</td>\n",
       "      <td>217</td>\n",
       "      <td>1</td>\n",
       "    </tr>\n",
       "    <tr>\n",
       "      <th>1</th>\n",
       "      <td>2</td>\n",
       "      <td>1</td>\n",
       "      <td>76</td>\n",
       "      <td>1</td>\n",
       "      <td>3.0</td>\n",
       "      <td>1</td>\n",
       "      <td>0</td>\n",
       "      <td>0</td>\n",
       "      <td>33536.0</td>\n",
       "      <td>26.0</td>\n",
       "      <td>183</td>\n",
       "      <td>0</td>\n",
       "    </tr>\n",
       "    <tr>\n",
       "      <th>2</th>\n",
       "      <td>3</td>\n",
       "      <td>1</td>\n",
       "      <td>47</td>\n",
       "      <td>1</td>\n",
       "      <td>28.0</td>\n",
       "      <td>1</td>\n",
       "      <td>2</td>\n",
       "      <td>1</td>\n",
       "      <td>38294.0</td>\n",
       "      <td>26.0</td>\n",
       "      <td>27</td>\n",
       "      <td>1</td>\n",
       "    </tr>\n",
       "    <tr>\n",
       "      <th>3</th>\n",
       "      <td>4</td>\n",
       "      <td>1</td>\n",
       "      <td>21</td>\n",
       "      <td>1</td>\n",
       "      <td>11.0</td>\n",
       "      <td>0</td>\n",
       "      <td>1</td>\n",
       "      <td>0</td>\n",
       "      <td>28619.0</td>\n",
       "      <td>152.0</td>\n",
       "      <td>203</td>\n",
       "      <td>0</td>\n",
       "    </tr>\n",
       "    <tr>\n",
       "      <th>4</th>\n",
       "      <td>5</td>\n",
       "      <td>0</td>\n",
       "      <td>29</td>\n",
       "      <td>1</td>\n",
       "      <td>41.0</td>\n",
       "      <td>0</td>\n",
       "      <td>1</td>\n",
       "      <td>0</td>\n",
       "      <td>27496.0</td>\n",
       "      <td>152.0</td>\n",
       "      <td>39</td>\n",
       "      <td>0</td>\n",
       "    </tr>\n",
       "  </tbody>\n",
       "</table>\n",
       "</div>"
      ],
      "text/plain": [
       "   id  Gender  Age  Driving_License  Region_Code  Previously_Insured  \\\n",
       "0   1       1   44                1         28.0                   1   \n",
       "1   2       1   76                1          3.0                   1   \n",
       "2   3       1   47                1         28.0                   1   \n",
       "3   4       1   21                1         11.0                   0   \n",
       "4   5       0   29                1         41.0                   0   \n",
       "\n",
       "   Vehicle_Age  Vehicle_Damage  Annual_Premium  Policy_Sales_Channel  Vintage  \\\n",
       "0            2               1         40454.0                  26.0      217   \n",
       "1            0               0         33536.0                  26.0      183   \n",
       "2            2               1         38294.0                  26.0       27   \n",
       "3            1               0         28619.0                 152.0      203   \n",
       "4            1               0         27496.0                 152.0       39   \n",
       "\n",
       "   Response  \n",
       "0         1  \n",
       "1         0  \n",
       "2         1  \n",
       "3         0  \n",
       "4         0  "
      ]
     },
     "execution_count": 310,
     "metadata": {},
     "output_type": "execute_result"
    }
   ],
   "source": [
    "ldf_training_dataset.head()"
   ]
  },
  {
   "cell_type": "code",
   "execution_count": 311,
   "metadata": {},
   "outputs": [
    {
     "data": {
      "text/plain": [
       "Text(0.5, 0, 'Age')"
      ]
     },
     "execution_count": 311,
     "metadata": {},
     "output_type": "execute_result"
    },
    {
     "data": {
      "image/png": "[encoded data removed]",
      "text/plain": [
       "<Figure size 1152x576 with 1 Axes>"
      ]
     },
     "metadata": {},
     "output_type": "display_data"
    }
   ],
   "source": [
    "fig, ax = plt.subplots(figsize=(16,8))\n",
    "seabornInstance.boxplot(ldf_training_dataset['Age'], ldf_training_dataset['Annual_Premium'])\n",
    "ax.set_ylabel('Annual Premium per year')\n",
    "ax.set_xlabel('Age')"
   ]
  },
  {
   "cell_type": "code",
   "execution_count": 312,
   "metadata": {},
   "outputs": [
    {
     "name": "stdout",
     "output_type": "stream",
     "text": [
      "Annual Premium greater than 14995.0 considered as an outlier value\n"
     ]
    }
   ],
   "source": [
    "Q1 = ldf_training_dataset.Annual_Premium.quantile(0.25)\n",
    "Q3 = ldf_training_dataset.Annual_Premium.quantile(0.75)\n",
    "IQR = Q3 - Q1\n",
    "print(\"Annual Premium greater than \"+str(IQR)+\" considered as an outlier value\")"
   ]
  },
  {
   "cell_type": "code",
   "execution_count": 313,
   "metadata": {},
   "outputs": [
    {
     "data": {
      "text/html": [
       "<div>\n",
       "<style scoped>\n",
       "    .dataframe tbody tr th:only-of-type {\n",
       "        vertical-align: middle;\n",
       "    }\n",
       "\n",
       "    .dataframe tbody tr th {\n",
       "        vertical-align: top;\n",
       "    }\n",
       "\n",
       "    .dataframe thead th {\n",
       "        text-align: right;\n",
       "    }\n",
       "</style>\n",
       "<table border=\"1\" class=\"dataframe\">\n",
       "  <thead>\n",
       "    <tr style=\"text-align: right;\">\n",
       "      <th></th>\n",
       "      <th>id</th>\n",
       "      <th>Gender</th>\n",
       "      <th>Age</th>\n",
       "      <th>Driving_License</th>\n",
       "      <th>Region_Code</th>\n",
       "      <th>Previously_Insured</th>\n",
       "      <th>Vehicle_Age</th>\n",
       "      <th>Vehicle_Damage</th>\n",
       "      <th>Annual_Premium</th>\n",
       "      <th>Policy_Sales_Channel</th>\n",
       "      <th>Vintage</th>\n",
       "      <th>Response</th>\n",
       "    </tr>\n",
       "  </thead>\n",
       "  <tbody>\n",
       "    <tr>\n",
       "      <th>0</th>\n",
       "      <td>1</td>\n",
       "      <td>1</td>\n",
       "      <td>44</td>\n",
       "      <td>1</td>\n",
       "      <td>28.0</td>\n",
       "      <td>1</td>\n",
       "      <td>2</td>\n",
       "      <td>1</td>\n",
       "      <td>40454.0</td>\n",
       "      <td>26.0</td>\n",
       "      <td>217</td>\n",
       "      <td>1</td>\n",
       "    </tr>\n",
       "    <tr>\n",
       "      <th>1</th>\n",
       "      <td>2</td>\n",
       "      <td>1</td>\n",
       "      <td>76</td>\n",
       "      <td>1</td>\n",
       "      <td>3.0</td>\n",
       "      <td>1</td>\n",
       "      <td>0</td>\n",
       "      <td>0</td>\n",
       "      <td>33536.0</td>\n",
       "      <td>26.0</td>\n",
       "      <td>183</td>\n",
       "      <td>0</td>\n",
       "    </tr>\n",
       "    <tr>\n",
       "      <th>2</th>\n",
       "      <td>3</td>\n",
       "      <td>1</td>\n",
       "      <td>47</td>\n",
       "      <td>1</td>\n",
       "      <td>28.0</td>\n",
       "      <td>1</td>\n",
       "      <td>2</td>\n",
       "      <td>1</td>\n",
       "      <td>38294.0</td>\n",
       "      <td>26.0</td>\n",
       "      <td>27</td>\n",
       "      <td>1</td>\n",
       "    </tr>\n",
       "    <tr>\n",
       "      <th>3</th>\n",
       "      <td>4</td>\n",
       "      <td>1</td>\n",
       "      <td>21</td>\n",
       "      <td>1</td>\n",
       "      <td>11.0</td>\n",
       "      <td>0</td>\n",
       "      <td>1</td>\n",
       "      <td>0</td>\n",
       "      <td>28619.0</td>\n",
       "      <td>152.0</td>\n",
       "      <td>203</td>\n",
       "      <td>0</td>\n",
       "    </tr>\n",
       "    <tr>\n",
       "      <th>4</th>\n",
       "      <td>5</td>\n",
       "      <td>0</td>\n",
       "      <td>29</td>\n",
       "      <td>1</td>\n",
       "      <td>41.0</td>\n",
       "      <td>0</td>\n",
       "      <td>1</td>\n",
       "      <td>0</td>\n",
       "      <td>27496.0</td>\n",
       "      <td>152.0</td>\n",
       "      <td>39</td>\n",
       "      <td>0</td>\n",
       "    </tr>\n",
       "  </tbody>\n",
       "</table>\n",
       "</div>"
      ],
      "text/plain": [
       "   id  Gender  Age  Driving_License  Region_Code  Previously_Insured  \\\n",
       "0   1       1   44                1         28.0                   1   \n",
       "1   2       1   76                1          3.0                   1   \n",
       "2   3       1   47                1         28.0                   1   \n",
       "3   4       1   21                1         11.0                   0   \n",
       "4   5       0   29                1         41.0                   0   \n",
       "\n",
       "   Vehicle_Age  Vehicle_Damage  Annual_Premium  Policy_Sales_Channel  Vintage  \\\n",
       "0            2               1         40454.0                  26.0      217   \n",
       "1            0               0         33536.0                  26.0      183   \n",
       "2            2               1         38294.0                  26.0       27   \n",
       "3            1               0         28619.0                 152.0      203   \n",
       "4            1               0         27496.0                 152.0       39   \n",
       "\n",
       "   Response  \n",
       "0         1  \n",
       "1         0  \n",
       "2         1  \n",
       "3         0  \n",
       "4         0  "
      ]
     },
     "execution_count": 313,
     "metadata": {},
     "output_type": "execute_result"
    }
   ],
   "source": [
    "ldf_training_dataset = ldf_training_dataset[~((ldf_training_dataset.Annual_Premium < (Q1 - 1.5 * IQR)) |(ldf_training_dataset.Annual_Premium > (Q3 + 1.5 * IQR)))]\n",
    "ldf_training_dataset.head()"
   ]
  },
  {
   "cell_type": "code",
   "execution_count": 314,
   "metadata": {},
   "outputs": [
    {
     "data": {
      "text/plain": [
       "Text(0.5, 0, 'Age')"
      ]
     },
     "execution_count": 314,
     "metadata": {},
     "output_type": "execute_result"
    },
    {
     "data": {
      "image/png": "[encoded data removed]",
      "text/plain": [
       "<Figure size 1152x576 with 1 Axes>"
      ]
     },
     "metadata": {},
     "output_type": "display_data"
    }
   ],
   "source": [
    "fig, ax = plt.subplots(figsize=(16,8))\n",
    "seabornInstance.boxplot(ldf_training_dataset['Age'], ldf_training_dataset['Annual_Premium'])\n",
    "ax.set_ylabel('Annual Premium per year')\n",
    "ax.set_xlabel('Age')"
   ]
  },
  {
   "cell_type": "code",
   "execution_count": 315,
   "metadata": {},
   "outputs": [
    {
     "data": {
      "text/plain": [
       "0    325634\n",
       "1     45155\n",
       "Name: Response, dtype: int64"
      ]
     },
     "execution_count": 315,
     "metadata": {},
     "output_type": "execute_result"
    }
   ],
   "source": [
    "ldf_training_dataset.Response.value_counts()"
   ]
  },
  {
   "cell_type": "code",
   "execution_count": 316,
   "metadata": {},
   "outputs": [
    {
     "data": {
      "text/plain": [
       "<matplotlib.axes._subplots.AxesSubplot at 0x212aa302da0>"
      ]
     },
     "execution_count": 316,
     "metadata": {},
     "output_type": "execute_result"
    },
    {
     "data": {
      "image/png": "[encoded data removed]",
      "text/plain": [
       "<Figure size 432x288 with 1 Axes>"
      ]
     },
     "metadata": {},
     "output_type": "display_data"
    }
   ],
   "source": [
    "ldf_training_dataset.Response.value_counts().plot(kind=\"barh\")"
   ]
  },
  {
   "cell_type": "code",
   "execution_count": 317,
   "metadata": {},
   "outputs": [
    {
     "data": {
      "text/plain": [
       "<matplotlib.axes._subplots.AxesSubplot at 0x212b9de07b8>"
      ]
     },
     "execution_count": 317,
     "metadata": {},
     "output_type": "execute_result"
    },
    {
     "data": {
      "image/png": "[encoded data removed]",
      "text/plain": [
       "<Figure size 432x288 with 1 Axes>"
      ]
     },
     "metadata": {},
     "output_type": "display_data"
    }
   ],
   "source": [
    "ldf_training_dataset = ldf_training_dataset.groupby('Response', group_keys=False).apply(lambda x: x.sample(min(len(x), 50000)))\n",
    "ldf_training_dataset = ldf_training_dataset.reset_index(drop=True)\n",
    "ldf_training_dataset['Response'].value_counts().plot(kind=\"barh\")"
   ]
  },
  {
   "cell_type": "code",
   "execution_count": 334,
   "metadata": {},
   "outputs": [],
   "source": [
    "ldf_training_dataset_shortlisted = ldf_training_dataset[[\"Gender\",\"Age\",\"Driving_License\", \"Previously_Insured\", \"Policy_Sales_Channel\",\n",
    "                                                         \"Vehicle_Age\", \"Region_Code\", \"Vehicle_Damage\", \"Response\"]]"
   ]
  },
  {
   "cell_type": "code",
   "execution_count": 335,
   "metadata": {},
   "outputs": [
    {
     "data": {
      "text/html": [
       "<div>\n",
       "<style scoped>\n",
       "    .dataframe tbody tr th:only-of-type {\n",
       "        vertical-align: middle;\n",
       "    }\n",
       "\n",
       "    .dataframe tbody tr th {\n",
       "        vertical-align: top;\n",
       "    }\n",
       "\n",
       "    .dataframe thead th {\n",
       "        text-align: right;\n",
       "    }\n",
       "</style>\n",
       "<table border=\"1\" class=\"dataframe\">\n",
       "  <thead>\n",
       "    <tr style=\"text-align: right;\">\n",
       "      <th></th>\n",
       "      <th>Gender</th>\n",
       "      <th>Age</th>\n",
       "      <th>Driving_License</th>\n",
       "      <th>Previously_Insured</th>\n",
       "      <th>Policy_Sales_Channel</th>\n",
       "      <th>Vehicle_Age</th>\n",
       "      <th>Region_Code</th>\n",
       "      <th>Vehicle_Damage</th>\n",
       "      <th>Response</th>\n",
       "    </tr>\n",
       "  </thead>\n",
       "  <tbody>\n",
       "    <tr>\n",
       "      <th>0</th>\n",
       "      <td>0</td>\n",
       "      <td>25</td>\n",
       "      <td>1</td>\n",
       "      <td>1</td>\n",
       "      <td>152.0</td>\n",
       "      <td>1</td>\n",
       "      <td>36.0</td>\n",
       "      <td>0</td>\n",
       "      <td>0</td>\n",
       "    </tr>\n",
       "    <tr>\n",
       "      <th>1</th>\n",
       "      <td>1</td>\n",
       "      <td>55</td>\n",
       "      <td>1</td>\n",
       "      <td>0</td>\n",
       "      <td>124.0</td>\n",
       "      <td>0</td>\n",
       "      <td>8.0</td>\n",
       "      <td>0</td>\n",
       "      <td>0</td>\n",
       "    </tr>\n",
       "    <tr>\n",
       "      <th>2</th>\n",
       "      <td>0</td>\n",
       "      <td>49</td>\n",
       "      <td>1</td>\n",
       "      <td>0</td>\n",
       "      <td>124.0</td>\n",
       "      <td>0</td>\n",
       "      <td>37.0</td>\n",
       "      <td>0</td>\n",
       "      <td>0</td>\n",
       "    </tr>\n",
       "    <tr>\n",
       "      <th>3</th>\n",
       "      <td>1</td>\n",
       "      <td>64</td>\n",
       "      <td>1</td>\n",
       "      <td>0</td>\n",
       "      <td>26.0</td>\n",
       "      <td>0</td>\n",
       "      <td>28.0</td>\n",
       "      <td>0</td>\n",
       "      <td>0</td>\n",
       "    </tr>\n",
       "    <tr>\n",
       "      <th>4</th>\n",
       "      <td>0</td>\n",
       "      <td>32</td>\n",
       "      <td>1</td>\n",
       "      <td>0</td>\n",
       "      <td>152.0</td>\n",
       "      <td>1</td>\n",
       "      <td>28.0</td>\n",
       "      <td>0</td>\n",
       "      <td>0</td>\n",
       "    </tr>\n",
       "  </tbody>\n",
       "</table>\n",
       "</div>"
      ],
      "text/plain": [
       "   Gender  Age  Driving_License  Previously_Insured  Policy_Sales_Channel  \\\n",
       "0       0   25                1                   1                 152.0   \n",
       "1       1   55                1                   0                 124.0   \n",
       "2       0   49                1                   0                 124.0   \n",
       "3       1   64                1                   0                  26.0   \n",
       "4       0   32                1                   0                 152.0   \n",
       "\n",
       "   Vehicle_Age  Region_Code  Vehicle_Damage  Response  \n",
       "0            1         36.0               0         0  \n",
       "1            0          8.0               0         0  \n",
       "2            0         37.0               0         0  \n",
       "3            0         28.0               0         0  \n",
       "4            1         28.0               0         0  "
      ]
     },
     "execution_count": 335,
     "metadata": {},
     "output_type": "execute_result"
    }
   ],
   "source": [
    "ldf_training_dataset_shortlisted.head()"
   ]
  },
  {
   "cell_type": "code",
   "execution_count": 338,
   "metadata": {},
   "outputs": [
    {
     "name": "stdout",
     "output_type": "stream",
     "text": [
      "[2]\tvalid_0's auc: 0.851348\tvalid_0's binary_logloss: 0.618283\n",
      "[4]\tvalid_0's auc: 0.851629\tvalid_0's binary_logloss: 0.568327\n",
      "[6]\tvalid_0's auc: 0.851802\tvalid_0's binary_logloss: 0.532823\n",
      "[8]\tvalid_0's auc: 0.852203\tvalid_0's binary_logloss: 0.506716\n",
      "[10]\tvalid_0's auc: 0.852302\tvalid_0's binary_logloss: 0.487626\n",
      "[12]\tvalid_0's auc: 0.853073\tvalid_0's binary_logloss: 0.473032\n",
      "[14]\tvalid_0's auc: 0.853439\tvalid_0's binary_logloss: 0.462024\n",
      "[16]\tvalid_0's auc: 0.854042\tvalid_0's binary_logloss: 0.453443\n",
      "[18]\tvalid_0's auc: 0.854343\tvalid_0's binary_logloss: 0.446977\n",
      "[20]\tvalid_0's auc: 0.854543\tvalid_0's binary_logloss: 0.441876\n",
      "[22]\tvalid_0's auc: 0.854725\tvalid_0's binary_logloss: 0.437999\n",
      "[24]\tvalid_0's auc: 0.854979\tvalid_0's binary_logloss: 0.434914\n",
      "[26]\tvalid_0's auc: 0.854991\tvalid_0's binary_logloss: 0.432568\n",
      "[28]\tvalid_0's auc: 0.855141\tvalid_0's binary_logloss: 0.430678\n",
      "[30]\tvalid_0's auc: 0.85533\tvalid_0's binary_logloss: 0.429114\n",
      "[32]\tvalid_0's auc: 0.855362\tvalid_0's binary_logloss: 0.427928\n",
      "[34]\tvalid_0's auc: 0.855424\tvalid_0's binary_logloss: 0.427019\n",
      "[36]\tvalid_0's auc: 0.855461\tvalid_0's binary_logloss: 0.426225\n",
      "[38]\tvalid_0's auc: 0.85556\tvalid_0's binary_logloss: 0.425616\n",
      "[40]\tvalid_0's auc: 0.855561\tvalid_0's binary_logloss: 0.42513\n",
      "[42]\tvalid_0's auc: 0.855644\tvalid_0's binary_logloss: 0.424755\n",
      "[44]\tvalid_0's auc: 0.85572\tvalid_0's binary_logloss: 0.424505\n",
      "[46]\tvalid_0's auc: 0.855705\tvalid_0's binary_logloss: 0.424308\n",
      "[48]\tvalid_0's auc: 0.855697\tvalid_0's binary_logloss: 0.424177\n",
      "[50]\tvalid_0's auc: 0.855671\tvalid_0's binary_logloss: 0.424098\n",
      "[52]\tvalid_0's auc: 0.855575\tvalid_0's binary_logloss: 0.424018\n"
     ]
    },
    {
     "data": {
      "text/plain": [
       "0.8671281197086034"
      ]
     },
     "execution_count": 338,
     "metadata": {},
     "output_type": "execute_result"
    },
    {
     "data": {
      "text/plain": [
       "0.8555751928205185"
      ]
     },
     "execution_count": 338,
     "metadata": {},
     "output_type": "execute_result"
    }
   ],
   "source": [
    "from lightgbm import LGBMClassifier\n",
    "from sklearn.metrics import roc_auc_score\n",
    "from sklearn.model_selection import train_test_split\n",
    "\n",
    "y = ldf_training_dataset_shortlisted[['Response']]\n",
    "X = ldf_training_dataset_shortlisted.drop([\"Response\"], axis =1)\n",
    "\n",
    "cat_col=['Gender','Driving_License', \"Region_Code\", 'Previously_Insured', 'Vehicle_Damage']\n",
    "\n",
    "X_t, X_tt, y_t, y_tt = train_test_split(X, y, test_size=.25, random_state=2)\n",
    "\n",
    "lgbcl = LGBMClassifier(n_estimators=52)\n",
    "lgbcl= lgbcl.fit(X_t, y_t,eval_metric='auc',eval_set=(X_tt , y_tt),verbose=2,categorical_feature=cat_col)\n",
    "y_lgb = lgbcl.predict(X_tt)\n",
    "probs_tr = lgbcl.predict_proba(X_t)[:, 1]\n",
    "probs_te = lgbcl.predict_proba(X_tt)[:, 1]\n",
    "roc_auc_score(y_t, probs_tr)\n",
    "roc_auc_score(y_tt, probs_te)"
   ]
  },
  {
   "cell_type": "code",
   "execution_count": 333,
   "metadata": {},
   "outputs": [
    {
     "data": {
      "image/png": "[encoded data removed]",
      "text/plain": [
       "<Figure size 432x288 with 1 Axes>"
      ]
     },
     "metadata": {},
     "output_type": "display_data"
    }
   ],
   "source": [
    "feat_importances = pd.Series(lgbcl.feature_importances_, index=X_t.columns)\n",
    "feat_importances.nlargest(15).plot(kind='barh')\n",
    "#feat_importances.nsmallest(20).plot(kind='barh')\n",
    "plt.show()"
   ]
  },
  {
   "cell_type": "code",
   "execution_count": 272,
   "metadata": {},
   "outputs": [],
   "source": [
    "llst_dummies_columns = [\"Gender\",\"Driving_License\", \"Vehicle_Damage\", \"Previously_Insured\"]\n",
    "ldf_training_dataset_shortlisted = pd.get_dummies(data=ldf_training_dataset_shortlisted, prefix=llst_dummies_columns, columns = llst_dummies_columns, drop_first=True)"
   ]
  },
  {
   "cell_type": "code",
   "execution_count": 273,
   "metadata": {},
   "outputs": [
    {
     "data": {
      "text/html": [
       "<div>\n",
       "<style scoped>\n",
       "    .dataframe tbody tr th:only-of-type {\n",
       "        vertical-align: middle;\n",
       "    }\n",
       "\n",
       "    .dataframe tbody tr th {\n",
       "        vertical-align: top;\n",
       "    }\n",
       "\n",
       "    .dataframe thead th {\n",
       "        text-align: right;\n",
       "    }\n",
       "</style>\n",
       "<table border=\"1\" class=\"dataframe\">\n",
       "  <thead>\n",
       "    <tr style=\"text-align: right;\">\n",
       "      <th></th>\n",
       "      <th>Age</th>\n",
       "      <th>Response</th>\n",
       "      <th>Gender_1</th>\n",
       "      <th>Driving_License_1</th>\n",
       "      <th>Vehicle_Damage_1</th>\n",
       "      <th>Previously_Insured_1</th>\n",
       "    </tr>\n",
       "  </thead>\n",
       "  <tbody>\n",
       "    <tr>\n",
       "      <th>0</th>\n",
       "      <td>25</td>\n",
       "      <td>0</td>\n",
       "      <td>0</td>\n",
       "      <td>1</td>\n",
       "      <td>1</td>\n",
       "      <td>1</td>\n",
       "    </tr>\n",
       "    <tr>\n",
       "      <th>1</th>\n",
       "      <td>53</td>\n",
       "      <td>0</td>\n",
       "      <td>1</td>\n",
       "      <td>1</td>\n",
       "      <td>0</td>\n",
       "      <td>0</td>\n",
       "    </tr>\n",
       "    <tr>\n",
       "      <th>2</th>\n",
       "      <td>26</td>\n",
       "      <td>0</td>\n",
       "      <td>0</td>\n",
       "      <td>1</td>\n",
       "      <td>0</td>\n",
       "      <td>0</td>\n",
       "    </tr>\n",
       "    <tr>\n",
       "      <th>3</th>\n",
       "      <td>26</td>\n",
       "      <td>0</td>\n",
       "      <td>0</td>\n",
       "      <td>1</td>\n",
       "      <td>0</td>\n",
       "      <td>0</td>\n",
       "    </tr>\n",
       "    <tr>\n",
       "      <th>4</th>\n",
       "      <td>26</td>\n",
       "      <td>0</td>\n",
       "      <td>0</td>\n",
       "      <td>1</td>\n",
       "      <td>0</td>\n",
       "      <td>0</td>\n",
       "    </tr>\n",
       "  </tbody>\n",
       "</table>\n",
       "</div>"
      ],
      "text/plain": [
       "   Age  Response  Gender_1  Driving_License_1  Vehicle_Damage_1  \\\n",
       "0   25         0         0                  1                 1   \n",
       "1   53         0         1                  1                 0   \n",
       "2   26         0         0                  1                 0   \n",
       "3   26         0         0                  1                 0   \n",
       "4   26         0         0                  1                 0   \n",
       "\n",
       "   Previously_Insured_1  \n",
       "0                     1  \n",
       "1                     0  \n",
       "2                     0  \n",
       "3                     0  \n",
       "4                     0  "
      ]
     },
     "execution_count": 273,
     "metadata": {},
     "output_type": "execute_result"
    }
   ],
   "source": [
    "ldf_training_dataset_shortlisted.head()"
   ]
  },
  {
   "cell_type": "code",
   "execution_count": 274,
   "metadata": {},
   "outputs": [
    {
     "data": {
      "text/html": [
       "<div>\n",
       "<style scoped>\n",
       "    .dataframe tbody tr th:only-of-type {\n",
       "        vertical-align: middle;\n",
       "    }\n",
       "\n",
       "    .dataframe tbody tr th {\n",
       "        vertical-align: top;\n",
       "    }\n",
       "\n",
       "    .dataframe thead th {\n",
       "        text-align: right;\n",
       "    }\n",
       "</style>\n",
       "<table border=\"1\" class=\"dataframe\">\n",
       "  <thead>\n",
       "    <tr style=\"text-align: right;\">\n",
       "      <th></th>\n",
       "      <th>Age</th>\n",
       "      <th>Response</th>\n",
       "      <th>Gender_1</th>\n",
       "      <th>Driving_License_1</th>\n",
       "      <th>Vehicle_Damage_1</th>\n",
       "      <th>Previously_Insured_1</th>\n",
       "    </tr>\n",
       "  </thead>\n",
       "  <tbody>\n",
       "    <tr>\n",
       "      <th>Age</th>\n",
       "      <td>1.000000</td>\n",
       "      <td>0.183493</td>\n",
       "      <td>0.128626</td>\n",
       "      <td>-0.070139</td>\n",
       "      <td>0.269112</td>\n",
       "      <td>0.258539</td>\n",
       "    </tr>\n",
       "    <tr>\n",
       "      <th>Response</th>\n",
       "      <td>0.183493</td>\n",
       "      <td>1.000000</td>\n",
       "      <td>0.078432</td>\n",
       "      <td>0.018825</td>\n",
       "      <td>0.585464</td>\n",
       "      <td>0.579317</td>\n",
       "    </tr>\n",
       "    <tr>\n",
       "      <th>Gender_1</th>\n",
       "      <td>0.128626</td>\n",
       "      <td>0.078432</td>\n",
       "      <td>1.000000</td>\n",
       "      <td>-0.012746</td>\n",
       "      <td>0.095475</td>\n",
       "      <td>0.086944</td>\n",
       "    </tr>\n",
       "    <tr>\n",
       "      <th>Driving_License_1</th>\n",
       "      <td>-0.070139</td>\n",
       "      <td>0.018825</td>\n",
       "      <td>-0.012746</td>\n",
       "      <td>1.000000</td>\n",
       "      <td>-0.003002</td>\n",
       "      <td>-0.002106</td>\n",
       "    </tr>\n",
       "    <tr>\n",
       "      <th>Vehicle_Damage_1</th>\n",
       "      <td>0.269112</td>\n",
       "      <td>0.585464</td>\n",
       "      <td>0.095475</td>\n",
       "      <td>-0.003002</td>\n",
       "      <td>1.000000</td>\n",
       "      <td>0.852968</td>\n",
       "    </tr>\n",
       "    <tr>\n",
       "      <th>Previously_Insured_1</th>\n",
       "      <td>0.258539</td>\n",
       "      <td>0.579317</td>\n",
       "      <td>0.086944</td>\n",
       "      <td>-0.002106</td>\n",
       "      <td>0.852968</td>\n",
       "      <td>1.000000</td>\n",
       "    </tr>\n",
       "  </tbody>\n",
       "</table>\n",
       "</div>"
      ],
      "text/plain": [
       "                           Age  Response  Gender_1  Driving_License_1  \\\n",
       "Age                   1.000000  0.183493  0.128626          -0.070139   \n",
       "Response              0.183493  1.000000  0.078432           0.018825   \n",
       "Gender_1              0.128626  0.078432  1.000000          -0.012746   \n",
       "Driving_License_1    -0.070139  0.018825 -0.012746           1.000000   \n",
       "Vehicle_Damage_1      0.269112  0.585464  0.095475          -0.003002   \n",
       "Previously_Insured_1  0.258539  0.579317  0.086944          -0.002106   \n",
       "\n",
       "                      Vehicle_Damage_1  Previously_Insured_1  \n",
       "Age                           0.269112              0.258539  \n",
       "Response                      0.585464              0.579317  \n",
       "Gender_1                      0.095475              0.086944  \n",
       "Driving_License_1            -0.003002             -0.002106  \n",
       "Vehicle_Damage_1              1.000000              0.852968  \n",
       "Previously_Insured_1          0.852968              1.000000  "
      ]
     },
     "execution_count": 274,
     "metadata": {},
     "output_type": "execute_result"
    }
   ],
   "source": [
    "ldf_training_dataset_shortlisted.corr()"
   ]
  },
  {
   "cell_type": "markdown",
   "metadata": {},
   "source": [
    "<hr><br/>"
   ]
  },
  {
   "cell_type": "markdown",
   "metadata": {},
   "source": [
    "## Model Selection and Training"
   ]
  },
  {
   "cell_type": "code",
   "execution_count": 275,
   "metadata": {},
   "outputs": [],
   "source": [
    "y = ldf_training_dataset_shortlisted[['Response']]\n",
    "X = ldf_training_dataset_shortlisted.drop([\"Response\"], axis =1)\n",
    "\n",
    "X_train, X_test, y_train, y_test = train_test_split(X, y, test_size=0.2, stratify=y, random_state=123, shuffle=True)"
   ]
  },
  {
   "cell_type": "code",
   "execution_count": 276,
   "metadata": {},
   "outputs": [],
   "source": [
    "from sklearn.linear_model import SGDClassifier\n",
    "svm_clf = Pipeline([\n",
    "    ('clf',SGDClassifier(\n",
    "        loss='modified_huber',\n",
    "        penalty='l2',\n",
    "        alpha=1e-3,\n",
    "        random_state=42,\n",
    "        max_iter=5,\n",
    "        tol=None\n",
    "    ))\n",
    "])\n",
    "\n",
    "xgboost_clg = Pipeline([\n",
    "    ('classifier', XGBClassifier(learning_rate=0.01))\n",
    "])\n",
    "\n",
    "gradient_boosting_clf = Pipeline([\n",
    "    ('classifier', GradientBoostingClassifier(learning_rate=0.01,random_state=1))\n",
    "])\n",
    "\n",
    "rnd_forest_clf = RandomForestClassifier(n_estimators=50, random_state=1)\n",
    "\n",
    "max_voting_clf = VotingClassifier(estimators=[('svm', svm_clf),\n",
    "                                              ('xgboost', xgboost_clg), \n",
    "                                              ('gnb', gradient_boosting_clf),\n",
    "                                              ('randomForest',rnd_forest_clf)], \n",
    "                                  voting='soft', weights=[1,1,2,1])"
   ]
  },
  {
   "cell_type": "code",
   "execution_count": 277,
   "metadata": {},
   "outputs": [],
   "source": [
    "svm_model = svm_clf.fit(X_train, y_train)\n",
    "xg_boost_model = xgboost_clg.fit(X_train, y_train)\n",
    "gradient_boosting_model = gradient_boosting_clf.fit(X_train, y_train)\n",
    "rnd_forest_model = rnd_forest_clf.fit(X_train, y_train)\n",
    "max_voting_model = max_voting_clf.fit(X_train, y_train)"
   ]
  },
  {
   "cell_type": "code",
   "execution_count": 278,
   "metadata": {},
   "outputs": [
    {
     "name": "stdout",
     "output_type": "stream",
     "text": [
      "SVM Accuracy 0.7711102937312806\n",
      "SVM Balanced Accuracy 0.8220050287594234 \n",
      "\n",
      "XGBoost Accuracy 0.7848247596027534\n",
      "XGBoost Balanced Accuracy 0.8052163988383642 \n",
      "\n",
      "GradBoost Accuracy 0.7821449214439599\n",
      "GradBoost Balanced Accuracy 0.8018613423054683 \n",
      "\n",
      "RandomForrest Accuracy 0.784246755293994\n",
      "RandomForrest Balanced Accuracy 0.8036187143790515 \n",
      "\n",
      "MaxVoting Accuracy 0.775261415585098\n",
      "MaxVoting Balanced Accuracy 0.8225880926282321\n"
     ]
    }
   ],
   "source": [
    "from sklearn import metrics\n",
    "from sklearn.metrics import classification_report\n",
    "from sklearn.metrics import accuracy_score, confusion_matrix\n",
    "\n",
    "svm_y_pred = svm_model.predict(X_test)\n",
    "xgb_y_pred = xg_boost_model.predict(X_test)\n",
    "grad_b_y_pred = gradient_boosting_model.predict(X_test)\n",
    "rnd_forest_y_pred = rnd_forest_model.predict(X_test)\n",
    "max_voting_y_pred = max_voting_model.predict(X_test)\n",
    "\n",
    "print('SVM Accuracy', str(metrics.accuracy_score(svm_y_pred,y_test)))\n",
    "print('SVM Balanced Accuracy', str(metrics.balanced_accuracy_score(svm_y_pred,y_test)),\"\\n\")\n",
    "\n",
    "print('XGBoost Accuracy', str(metrics.accuracy_score(xgb_y_pred,y_test)))\n",
    "print('XGBoost Balanced Accuracy', str(metrics.balanced_accuracy_score(xgb_y_pred,y_test)),\"\\n\")\n",
    "\n",
    "print('GradBoost Accuracy', str(metrics.accuracy_score(grad_b_y_pred,y_test)))\n",
    "print('GradBoost Balanced Accuracy', str(metrics.balanced_accuracy_score(grad_b_y_pred,y_test)),\"\\n\")\n",
    "\n",
    "print('RandomForrest Accuracy', str(metrics.accuracy_score(rnd_forest_y_pred,y_test)))\n",
    "print('RandomForrest Balanced Accuracy', str(metrics.balanced_accuracy_score(rnd_forest_y_pred,y_test)),\"\\n\")\n",
    "\n",
    "print('MaxVoting Accuracy', str(metrics.accuracy_score(max_voting_y_pred,y_test)))\n",
    "print('MaxVoting Balanced Accuracy', str(metrics.balanced_accuracy_score(max_voting_y_pred,y_test)))"
   ]
  },
  {
   "cell_type": "code",
   "execution_count": 279,
   "metadata": {},
   "outputs": [
    {
     "name": "stdout",
     "output_type": "stream",
     "text": [
      "              precision    recall  f1-score   support\n",
      "\n",
      "           0       0.96      0.59      0.73     10000\n",
      "           1       0.68      0.98      0.80      9031\n",
      "\n",
      "   micro avg       0.77      0.77      0.77     19031\n",
      "   macro avg       0.82      0.78      0.77     19031\n",
      "weighted avg       0.83      0.77      0.76     19031\n",
      "\n"
     ]
    }
   ],
   "source": [
    "print(classification_report(y_test,svm_y_pred))"
   ]
  },
  {
   "cell_type": "code",
   "execution_count": 280,
   "metadata": {},
   "outputs": [
    {
     "name": "stdout",
     "output_type": "stream",
     "text": [
      "              precision    recall  f1-score   support\n",
      "\n",
      "           0       0.90      0.67      0.76     10000\n",
      "           1       0.71      0.92      0.80      9031\n",
      "\n",
      "   micro avg       0.78      0.78      0.78     19031\n",
      "   macro avg       0.81      0.79      0.78     19031\n",
      "weighted avg       0.81      0.78      0.78     19031\n",
      "\n"
     ]
    }
   ],
   "source": [
    "print(classification_report(y_test,xgb_y_pred))"
   ]
  },
  {
   "cell_type": "code",
   "execution_count": 281,
   "metadata": {},
   "outputs": [
    {
     "name": "stdout",
     "output_type": "stream",
     "text": [
      "              precision    recall  f1-score   support\n",
      "\n",
      "           0       0.89      0.67      0.76     10000\n",
      "           1       0.71      0.91      0.80      9031\n",
      "\n",
      "   micro avg       0.78      0.78      0.78     19031\n",
      "   macro avg       0.80      0.79      0.78     19031\n",
      "weighted avg       0.81      0.78      0.78     19031\n",
      "\n"
     ]
    }
   ],
   "source": [
    "print(classification_report(y_test,grad_b_y_pred))"
   ]
  },
  {
   "cell_type": "code",
   "execution_count": 282,
   "metadata": {},
   "outputs": [
    {
     "name": "stdout",
     "output_type": "stream",
     "text": [
      "              precision    recall  f1-score   support\n",
      "\n",
      "           0       0.89      0.67      0.77     10000\n",
      "           1       0.71      0.91      0.80      9031\n",
      "\n",
      "   micro avg       0.78      0.78      0.78     19031\n",
      "   macro avg       0.80      0.79      0.78     19031\n",
      "weighted avg       0.81      0.78      0.78     19031\n",
      "\n"
     ]
    }
   ],
   "source": [
    "print(classification_report(y_test,rnd_forest_y_pred))"
   ]
  },
  {
   "cell_type": "code",
   "execution_count": 283,
   "metadata": {},
   "outputs": [
    {
     "name": "stdout",
     "output_type": "stream",
     "text": [
      "              precision    recall  f1-score   support\n",
      "\n",
      "           0       0.96      0.60      0.74     10000\n",
      "           1       0.69      0.97      0.80      9031\n",
      "\n",
      "   micro avg       0.78      0.78      0.78     19031\n",
      "   macro avg       0.82      0.78      0.77     19031\n",
      "weighted avg       0.83      0.78      0.77     19031\n",
      "\n"
     ]
    }
   ],
   "source": [
    "print(classification_report(y_test,max_voting_y_pred))"
   ]
  },
  {
   "cell_type": "code",
   "execution_count": 284,
   "metadata": {},
   "outputs": [
    {
     "name": "stdout",
     "output_type": "stream",
     "text": [
      "SVM 0.7810036374709335\n",
      "XGBoost 0.7911834403720518\n",
      "GradBoost 0.7884134813420441\n",
      "Random Forest 0.7904510353227772\n",
      "Max Voting 0.7847980566936108\n"
     ]
    }
   ],
   "source": [
    "from sklearn.metrics import roc_auc_score\n",
    "print(\"SVM\",roc_auc_score(y_test,svm_y_pred))\n",
    "print(\"XGBoost\",roc_auc_score(y_test,xgb_y_pred))\n",
    "print(\"GradBoost\",roc_auc_score(y_test,grad_b_y_pred))\n",
    "print(\"Random Forest\",roc_auc_score(y_test,rnd_forest_y_pred))\n",
    "print(\"Max Voting\",roc_auc_score(y_test,max_voting_y_pred))"
   ]
  },
  {
   "cell_type": "code",
   "execution_count": 285,
   "metadata": {},
   "outputs": [
    {
     "data": {
      "image/png": "[encoded data removed]",
      "text/plain": [
       "<Figure size 720x864 with 11 Axes>"
      ]
     },
     "metadata": {},
     "output_type": "display_data"
    }
   ],
   "source": [
    "llst_all_model_accuracy = [\n",
    "                           [[svm_y_pred,y_test],[xgb_y_pred,y_test]],\n",
    "                           [[grad_b_y_pred,y_test],[rnd_forest_y_pred,y_test]],\n",
    "                           [[max_voting_y_pred,y_test]]\n",
    "                         ]\n",
    "\n",
    "from sklearn.metrics import confusion_matrix\n",
    "#create subplot figure with having two side by side plots\n",
    "fig, axes = plt.subplots(nrows=len(llst_all_model_accuracy),ncols=2,figsize=(10,12))\n",
    "\n",
    "lint_global_idx = 0\n",
    "for i, llst_all_train_test_accuracies in enumerate(llst_all_model_accuracy):\n",
    "    for j, llst_all_train_test_accuracy in enumerate(llst_all_train_test_accuracies):\n",
    "        cm = confusion_matrix(llst_all_train_test_accuracy[1], llst_all_train_test_accuracy[0], \n",
    "                              labels=[0,1])\n",
    "        df_cm = pd.DataFrame(cm, index = [0,1],\n",
    "                  columns = [0,1])\n",
    "#         cmn = cm.astype('float') / cm.sum(axis=1)[:, np.newaxis]\n",
    "#         df_cm = pd.DataFrame(cmn, index=df_cm.index, columns=df_cm.columns)\n",
    "        seabornInstance.heatmap(df_cm, annot=True, fmt='.2f', annot_kws={\"size\": 20}, \n",
    "                                cmap = 'Greens', \n",
    "                                ax=axes.flat[lint_global_idx])\n",
    "#         plt.savefig(\"svm_\"+str(lint_global_idx)+\".jpg\")\n",
    "        lint_global_idx = lint_global_idx+1"
   ]
  },
  {
   "cell_type": "code",
   "execution_count": 126,
   "metadata": {},
   "outputs": [],
   "source": [
    "from sklearn import model_selection\n",
    "kfold = model_selection.KFold(n_splits=10, random_state=7)"
   ]
  },
  {
   "cell_type": "code",
   "execution_count": 1,
   "metadata": {},
   "outputs": [],
   "source": [
    "result_lsvm = model_selection.cross_val_score(svm_model, X_train, y_train, cv=kfold, scoring=\"accuracy\")\n",
    "result_xgb = model_selection.cross_val_score(xg_boost_model, X_train, y_train, cv=kfold, scoring=\"accuracy\")\n",
    "result_grad_b = model_selection.cross_val_score(gradient_boosting_model, X_train, y_train, cv=kfold, scoring=\"accuracy\")\n",
    "result_random_forest = model_selection.cross_val_score(rnd_forest_model, X_train, y_train, cv=kfold, scoring=\"accuracy\")\n",
    "result_max_voting = model_selection.cross_val_score(max_voting_model, X_train, y_train, cv=kfold, scoring=\"accuracy\")"
   ]
  },
  {
   "cell_type": "code",
   "execution_count": 140,
   "metadata": {},
   "outputs": [
    {
     "name": "stdout",
     "output_type": "stream",
     "text": [
      "0.5780658191843349 0.10013832839164165\n",
      "0.7879249229285941 0.003557688735151186\n",
      "0.7842204221158611 0.003552574936661385\n",
      "0.7879774732616769 0.003363826172093125\n",
      "0.770821065606795 0.0067993073162300405\n"
     ]
    }
   ],
   "source": [
    "print(result_lsvm.mean(),result_lsvm.std())\n",
    "print(result_xgb.mean(),result_xgb.std())\n",
    "print(result_grad_b.mean(),result_grad_b.std())\n",
    "print(result_random_forest.mean(),result_random_forest.std())\n",
    "print(result_max_voting.mean(),result_max_voting.std())"
   ]
  },
  {
   "cell_type": "markdown",
   "metadata": {},
   "source": [
    "<br/><hr/>"
   ]
  },
  {
   "cell_type": "markdown",
   "metadata": {},
   "source": [
    "### Make Predictions"
   ]
  },
  {
   "cell_type": "code",
   "execution_count": 292,
   "metadata": {},
   "outputs": [],
   "source": [
    "ldf_testing_dataset = pd.read_csv(\"data/test.csv\")\n",
    "ldf_testing_dataset['Gender'] = le.fit_transform(ldf_testing_dataset['Gender'])\n",
    "ldf_testing_dataset['Vehicle_Damage'] = le.fit_transform(ldf_testing_dataset['Vehicle_Damage'])"
   ]
  },
  {
   "cell_type": "code",
   "execution_count": 293,
   "metadata": {},
   "outputs": [],
   "source": [
    "ldf_testing_dataset[\"Previously_Insured\"] = ldf_testing_dataset[\"Previously_Insured\"].apply(lambda x: 1 if x==0 else 0)"
   ]
  },
  {
   "cell_type": "code",
   "execution_count": 294,
   "metadata": {},
   "outputs": [],
   "source": [
    "ldf_testing_dataset_shortlisted = ldf_testing_dataset[[\"Gender\",\"Age\",\"Driving_License\", \"Vehicle_Damage\", \"Previously_Insured\"]]"
   ]
  },
  {
   "cell_type": "code",
   "execution_count": 295,
   "metadata": {},
   "outputs": [
    {
     "data": {
      "text/html": [
       "<div>\n",
       "<style scoped>\n",
       "    .dataframe tbody tr th:only-of-type {\n",
       "        vertical-align: middle;\n",
       "    }\n",
       "\n",
       "    .dataframe tbody tr th {\n",
       "        vertical-align: top;\n",
       "    }\n",
       "\n",
       "    .dataframe thead th {\n",
       "        text-align: right;\n",
       "    }\n",
       "</style>\n",
       "<table border=\"1\" class=\"dataframe\">\n",
       "  <thead>\n",
       "    <tr style=\"text-align: right;\">\n",
       "      <th></th>\n",
       "      <th>Gender</th>\n",
       "      <th>Age</th>\n",
       "      <th>Driving_License</th>\n",
       "      <th>Vehicle_Damage</th>\n",
       "      <th>Previously_Insured</th>\n",
       "    </tr>\n",
       "  </thead>\n",
       "  <tbody>\n",
       "    <tr>\n",
       "      <th>0</th>\n",
       "      <td>1</td>\n",
       "      <td>25</td>\n",
       "      <td>1</td>\n",
       "      <td>0</td>\n",
       "      <td>0</td>\n",
       "    </tr>\n",
       "    <tr>\n",
       "      <th>1</th>\n",
       "      <td>1</td>\n",
       "      <td>40</td>\n",
       "      <td>1</td>\n",
       "      <td>1</td>\n",
       "      <td>1</td>\n",
       "    </tr>\n",
       "    <tr>\n",
       "      <th>2</th>\n",
       "      <td>1</td>\n",
       "      <td>47</td>\n",
       "      <td>1</td>\n",
       "      <td>1</td>\n",
       "      <td>1</td>\n",
       "    </tr>\n",
       "    <tr>\n",
       "      <th>3</th>\n",
       "      <td>1</td>\n",
       "      <td>24</td>\n",
       "      <td>1</td>\n",
       "      <td>1</td>\n",
       "      <td>0</td>\n",
       "    </tr>\n",
       "    <tr>\n",
       "      <th>4</th>\n",
       "      <td>1</td>\n",
       "      <td>27</td>\n",
       "      <td>1</td>\n",
       "      <td>0</td>\n",
       "      <td>0</td>\n",
       "    </tr>\n",
       "  </tbody>\n",
       "</table>\n",
       "</div>"
      ],
      "text/plain": [
       "   Gender  Age  Driving_License  Vehicle_Damage  Previously_Insured\n",
       "0       1   25                1               0                   0\n",
       "1       1   40                1               1                   1\n",
       "2       1   47                1               1                   1\n",
       "3       1   24                1               1                   0\n",
       "4       1   27                1               0                   0"
      ]
     },
     "execution_count": 295,
     "metadata": {},
     "output_type": "execute_result"
    }
   ],
   "source": [
    "ldf_testing_dataset_shortlisted.head()"
   ]
  },
  {
   "cell_type": "code",
   "execution_count": 296,
   "metadata": {},
   "outputs": [],
   "source": [
    "llst_dummies_columns = [\"Gender\",\"Driving_License\", \"Vehicle_Damage\", \"Previously_Insured\"]\n",
    "ldf_testing_dataset_shortlisted = pd.get_dummies(data=ldf_testing_dataset_shortlisted, prefix=llst_dummies_columns, columns = llst_dummies_columns, drop_first=True)"
   ]
  },
  {
   "cell_type": "code",
   "execution_count": 297,
   "metadata": {},
   "outputs": [],
   "source": [
    "svm_response = svm_model.predict(ldf_testing_dataset_shortlisted)\n",
    "xg_boost_response = xg_boost_model.predict(ldf_testing_dataset_shortlisted)\n",
    "gradient_boosting_response = gradient_boosting_model.predict(ldf_testing_dataset_shortlisted)\n",
    "random_forest_response = rnd_forest_model.predict(ldf_testing_dataset_shortlisted)\n",
    "max_voting_response = max_voting_model.predict(ldf_testing_dataset_shortlisted)"
   ]
  },
  {
   "cell_type": "code",
   "execution_count": 298,
   "metadata": {},
   "outputs": [],
   "source": [
    "ldf_testing_dataset_svm = ldf_testing_dataset\n",
    "ldf_testing_dataset_svm[\"Response\"] = svm_response\n",
    "\n",
    "ldf_testing_dataset_xb = ldf_testing_dataset\n",
    "ldf_testing_dataset_xb[\"Response\"] = xg_boost_response\n",
    "\n",
    "ldf_testing_dataset_grad = ldf_testing_dataset\n",
    "ldf_testing_dataset_grad[\"Response\"] = gradient_boosting_response\n",
    "\n",
    "ldf_testing_dataset_rf = ldf_testing_dataset\n",
    "ldf_testing_dataset_rf[\"Response\"] = random_forest_response\n",
    "\n",
    "ldf_testing_dataset_max_voting = ldf_testing_dataset\n",
    "ldf_testing_dataset_max_voting[\"Response\"] = max_voting_response"
   ]
  },
  {
   "cell_type": "code",
   "execution_count": 299,
   "metadata": {},
   "outputs": [],
   "source": [
    "ldf_testing_dataset_svm = ldf_testing_dataset_svm[[\"id\",\"Response\"]].reset_index(drop=True)\n",
    "ldf_testing_dataset_xb = ldf_testing_dataset_xb[[\"id\",\"Response\"]].reset_index(drop=True)\n",
    "ldf_testing_dataset_grad = ldf_testing_dataset_grad[[\"id\",\"Response\"]].reset_index(drop=True)\n",
    "ldf_testing_dataset_rf = ldf_testing_dataset_rf[[\"id\",\"Response\"]].reset_index(drop=True)\n",
    "ldf_testing_dataset_max_voting = ldf_testing_dataset_max_voting[[\"id\",\"Response\"]].reset_index(drop=True)\n",
    "\n",
    "ldf_testing_dataset_svm.to_csv('data/prediction/svm_pred.csv', index=False)\n",
    "ldf_testing_dataset_xb.to_csv('data/prediction/xgb_pred.csv', index=False)\n",
    "ldf_testing_dataset_grad.to_csv('data/prediction/grad_pred.csv', index=False)\n",
    "ldf_testing_dataset_rf.to_csv('data/prediction/random_forest.csv', index=False)\n",
    "ldf_testing_dataset_max_voting.to_csv('data/prediction/max_voting.csv', index=False)"
   ]
  },
  {
   "cell_type": "code",
   "execution_count": null,
   "metadata": {},
   "outputs": [],
   "source": []
  }
 ],
 "metadata": {
  "kernelspec": {
   "display_name": "Python 3",
   "language": "python",
   "name": "python3"
  },
  "language_info": {
   "codemirror_mode": {
    "name": "ipython",
    "version": 3
   },
   "file_extension": ".py",
   "mimetype": "text/x-python",
   "name": "python",
   "nbconvert_exporter": "python",
   "pygments_lexer": "ipython3",
   "version": "3.7.6"
  }
 },
 "nbformat": 4,
 "nbformat_minor": 2
}
